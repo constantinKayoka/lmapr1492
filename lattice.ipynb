{
 "cells": [
  {
   "cell_type": "code",
   "execution_count": 1,
   "id": "worst-finnish",
   "metadata": {},
   "outputs": [],
   "source": [
    "from pymatgen.ext.matproj import MPRester\n",
    "from pymatgen.io.cif import CifParser\n",
    "from pymatgen.io.cif import CifWriter\n",
    "from pymatgen.entries.compatibility import MaterialsProjectCompatibility\n",
    "from pymatgen.symmetry.analyzer import SpacegroupAnalyzer"
   ]
  },
  {
   "cell_type": "code",
   "execution_count": 2,
   "id": "legislative-missouri",
   "metadata": {},
   "outputs": [],
   "source": [
    "with MPRester(\"TlAVvoNCgksfit8e\") as m:\n",
    "        structure = m.get_structure_by_material_id(\"mp-24199\")\n",
    "        w = CifWriter(structure)\n",
    "        w.write_file('mystructure.cif')"
   ]
  },
  {
   "cell_type": "code",
   "execution_count": 22,
   "id": "surrounded-verse",
   "metadata": {},
   "outputs": [
    {
     "name": "stdout",
     "output_type": "stream",
     "text": [
      "les vecteurs du réseaux direct sont : \n",
      "4.524879 -1.516858 0.000000\n",
      "4.524879 1.516858 0.000000\n",
      "4.016388 0.000000 2.577598\n",
      " \n",
      "les vecteurs du réseaux réciproques sont : \n",
      "0.694293 -2.071118 -1.081841\n",
      "0.694293 2.071118 -1.081841\n",
      "0.000000 0.000000 2.437612\n",
      "\n",
      "le réseau de maille est rhombohedral\n",
      "\n",
      "le système cristallin est : trigonal\n",
      "\n",
      "le groupe ponctuel est : -3m\n",
      "\n",
      "en résumé : \n",
      "Full Formula (Li1 H1 F2)\n",
      "Reduced Formula: LiHF2\n",
      "abc   :   4.772357   4.772357   4.772357\n",
      "angles:  37.065004  37.065004  37.065004\n",
      "Sites (4)\n",
      "  #  SP           a         b         c\n",
      "---  ----  --------  --------  --------\n",
      "  0  Li    0         0         0\n",
      "  1  H     0.5       0.5       0.5\n",
      "  2  F     0.413848  0.413848  0.413848\n",
      "  3  F     0.586152  0.586152  0.586152\n"
     ]
    }
   ],
   "source": [
    "Vector_basis_direct=new_s.lattice\n",
    "print(\"les vecteurs du réseaux direct sont : \")\n",
    "print(Vector_basis_direct)\n",
    "print(\" \")\n",
    "vector_basis_reciprocal=vector_direct.reciprocal_lattice\n",
    "print(\"les vecteurs du réseaux réciproques sont : \")\n",
    "print(vector_basis_reciprocal)\n",
    "print(\"\")\n",
    "lattice=SpacegroupAnalyzer(new_s).get_lattice_type()\n",
    "print(\"le réseau de maille est \" + lattice )\n",
    "#print(lattice)\n",
    "print(\"\")\n",
    "system_crystalline=SpacegroupAnalyzer(new_s).get_crystal_system()\n",
    "print(\"le système cristallin est : \" + system_crystalline)\n",
    "print(\"\")\n",
    "point_group=SpacegroupAnalyzer(new_s).get_point_group_symbol()\n",
    "print(\"le groupe ponctuel est : \" + point_group)\n",
    "print(\"\")\n",
    "print(\"en résumé : \")\n",
    "summary=SpacegroupAnalyzer(structure).get_primitive_standard_structure()\n",
    "print(summary)"
   ]
  },
  {
   "cell_type": "code",
   "execution_count": null,
   "id": "practical-brown",
   "metadata": {},
   "outputs": [],
   "source": []
  },
  {
   "cell_type": "code",
   "execution_count": null,
   "id": "sustained-timber",
   "metadata": {},
   "outputs": [],
   "source": []
  }
 ],
 "metadata": {
  "kernelspec": {
   "display_name": "Python 3",
   "language": "python",
   "name": "python3"
  },
  "language_info": {
   "codemirror_mode": {
    "name": "ipython",
    "version": 3
   },
   "file_extension": ".py",
   "mimetype": "text/x-python",
   "name": "python",
   "nbconvert_exporter": "python",
   "pygments_lexer": "ipython3",
   "version": "3.6.8"
  }
 },
 "nbformat": 4,
 "nbformat_minor": 5
}
