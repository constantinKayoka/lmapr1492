{
 "cells": [
  {
   "cell_type": "code",
   "execution_count": 59,
   "id": "starting-trouble",
   "metadata": {},
   "outputs": [],
   "source": [
    "from pymatgen.ext.matproj import MPRester\n",
    "from matplotlib import pyplot as plt\n",
    "import numpy as np\n",
    "from scipy import constants\n",
    "from pymatgen.electronic_structure.bandstructure import BandStructure\n",
    "from pymatgen.electronic_structure.plotter import BSPlotter\n",
    "m = MPRester(\"OQSepLeUv7v95d4WW89s\")\n",
    "structure = m.get_bandstructure_by_material_id(\"mp-24199\")\n",
    "strc = BSPlotter(structure)\n",
    "#strcd = strc.bs_plot_data()\n",
    "data=strc.bs_plot_data()\n",
    "#structu_plot1 = strc.get_plot()\n",
    "dist   = data['distances']\n",
    "energy = data['energy']  \n",
    "#strc.show()"
   ]
  },
  {
   "cell_type": "code",
   "execution_count": 60,
   "id": "adopted-tanzania",
   "metadata": {},
   "outputs": [
    {
     "name": "stdout",
     "output_type": "stream",
     "text": [
      "bande interdite : {'direct': False, 'energy': 8.0448, 'transition': '(0.500,0.500,0.500)-(0.000,0.000,0.000)'}\n"
     ]
    }
   ],
   "source": [
    "gap = structure.get_band_gap()\n",
    "print(\"bande interdite :\" + \" \" + str(gap))\n",
    "#on peut bien observer une bande indirecte sur le graphe"
   ]
  },
  {
   "cell_type": "code",
   "execution_count": 61,
   "id": "united-programmer",
   "metadata": {},
   "outputs": [
    {
     "name": "stdout",
     "output_type": "stream",
     "text": [
      "defaultdict(<class 'list'>, {<Spin.up: 1>: [7, 8]})\n"
     ]
    }
   ],
   "source": [
    "A = BandStructure.get_vbm(structure)[\"band_index\"]\n",
    "print(A)"
   ]
  },
  {
   "cell_type": "code",
   "execution_count": 63,
   "id": "computational-quality",
   "metadata": {},
   "outputs": [
    {
     "data": {
      "text/plain": [
       "\"\\nPour calculer le maximum/le minimum) de dispersion, on prend la valeur absolue de la \\npente la plus/la moins élevée pour chaque direction.\\nLa pente se calcule comme un rapport de l'énergie sur la distance ==> dx/dy\\n\""
      ]
     },
     "execution_count": 63,
     "metadata": {},
     "output_type": "execute_result"
    }
   ],
   "source": [
    "\"\"\"\n",
    "Pour calculer le maximum/le minimum de dispersion, on prend la valeur absolue de la \n",
    "pente la plus/la moins élevée pour chaque direction.\n",
    "La pente se calcule comme un rapport de l'énergie sur la distance ==> dx/dy\n",
    "\"\"\""
   ]
  },
  {
   "cell_type": "code",
   "execution_count": null,
   "id": "strange-lithuania",
   "metadata": {},
   "outputs": [],
   "source": []
  }
 ],
 "metadata": {
  "kernelspec": {
   "display_name": "Python 3",
   "language": "python",
   "name": "python3"
  },
  "language_info": {
   "codemirror_mode": {
    "name": "ipython",
    "version": 3
   },
   "file_extension": ".py",
   "mimetype": "text/x-python",
   "name": "python",
   "nbconvert_exporter": "python",
   "pygments_lexer": "ipython3",
   "version": "3.6.8"
  }
 },
 "nbformat": 4,
 "nbformat_minor": 5
}
